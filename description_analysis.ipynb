{
 "cells": [
  {
   "cell_type": "code",
   "execution_count": 55,
   "metadata": {},
   "outputs": [],
   "source": [
    "import pandas as pd\n",
    "import re, os, operator\n",
    "import numpy as np\n",
    "\n",
    "import spacy\n",
    "\n",
    "import nltk\n",
    "from nltk.corpus import stopwords\n",
    "from sklearn.feature_extraction.text import CountVectorizer\n",
    "\n",
    "import gensim\n",
    "from gensim.corpora import Dictionary\n",
    "from gensim.utils import simple_preprocess\n",
    "from gensim.models import CoherenceModel"
   ]
  },
  {
   "cell_type": "markdown",
   "metadata": {},
   "source": [
    "#### Reading and cleaning the dataframe"
   ]
  },
  {
   "cell_type": "code",
   "execution_count": 2,
   "metadata": {},
   "outputs": [],
   "source": [
    "# read csv file 'description.csv\n",
    "df = pd.read_csv('description_.csv', header=None)"
   ]
  },
  {
   "cell_type": "code",
   "execution_count": 3,
   "metadata": {},
   "outputs": [],
   "source": [
    "pd.set_option('display.max_colwidth', None)"
   ]
  },
  {
   "cell_type": "code",
   "execution_count": 4,
   "metadata": {},
   "outputs": [
    {
     "data": {
      "text/html": [
       "<div>\n",
       "<style scoped>\n",
       "    .dataframe tbody tr th:only-of-type {\n",
       "        vertical-align: middle;\n",
       "    }\n",
       "\n",
       "    .dataframe tbody tr th {\n",
       "        vertical-align: top;\n",
       "    }\n",
       "\n",
       "    .dataframe thead th {\n",
       "        text-align: right;\n",
       "    }\n",
       "</style>\n",
       "<table border=\"1\" class=\"dataframe\">\n",
       "  <thead>\n",
       "    <tr style=\"text-align: right;\">\n",
       "      <th></th>\n",
       "      <th>0</th>\n",
       "      <th>1</th>\n",
       "      <th>2</th>\n",
       "      <th>3</th>\n",
       "    </tr>\n",
       "  </thead>\n",
       "  <tbody>\n",
       "    <tr>\n",
       "      <th>0</th>\n",
       "      <td>https://www.innovasjonnorge.no/no/tjenester/kundehistorier/2022/wonderland/</td>\n",
       "      <td>Med 350 millioner kroner i omsetning er Wonderland en av de største sengeprodusentene i Norge. Nå vil selskapet på Åndalsnes øke eksporten til Europa.</td>\n",
       "      <td>En høyteknologisk robotlinje sørger for at skumgummi, fjærer og andre komponenter plasseres riktig og blir til en «liggeflate» i andre enden. For femti år siden ble den første skummadrassen laget, og nå produserer Wonderland over 90 000 madrasser i året i fabrikkanlegget på Åndalsnes.\\n</td>\n",
       "      <td>\\n- I robotlinja har vi mulighet til å produsere to-tre ganger flere madrasser om markedet skulle ønske det. Vi tenker at en vekst skal skje på eksport, der Norden og deler av EU vil være vår prioritet, sier administrerende direktør i Wonderland, Lars Stenerud.\\nSengeprodusenten kan se tilbake på fem tiår med skiftende eierskap, krevende markeder og hard konkurranse. Wonderland har klart seg godt og vil nå vokse videre. De eksporterer noe til Norden allerede, men har et mål om å øke eksporten til Europa. Ved å delta i Innovasjon Norges program for eksportutvikling, Global Gateways, får de tett oppfølging gjennom hele eksportprosessen. Vi bidrar med kompetanse, rådgivning og nettverk for å sikre raskere tilgang til nye markeder.\\n \\n</td>\n",
       "    </tr>\n",
       "    <tr>\n",
       "      <th>1</th>\n",
       "      <td>https://www.innovasjonnorge.no/no/tjenester/kundehistorier/2022/c-food-norway/</td>\n",
       "      <td>Bedre utnyttelse av fiskefangst la grunnlaget for C Food Norway. Nå bistår Innovasjon Norge bedriften med å utvikle en bærekraftig forretningsmodell for bruk av fiskehoder.</td>\n",
       "      <td>Norge er en stor og viktig sjømatnasjon, men vi har potensial for å bli både mer bærekraftig og skape større verdier av det vi fangster. Målet er at alt vi fangster skal utnyttes, og ikke noe av fangsten skal gå til spille.\\nDrahjelp ut i verden\\n</td>\n",
       "      <td>\\nC Food Norway har jobbet mye med å utnytte rester av hvitfisk til mat og helsekostprodukter siden etableringen i 2013. Ålesund-bedriften har kommet langt med å utnytte fiskerygger og svømmeblærer, og er i gang med å utvikle bærekraftige og lønnsomme verdikjeder for fiskehoder. I mange land blir nettopp hodet betraktet som den beste delen av fisken.\\n- For å lykkes med nye sjømatprodukter i et globalt marked, trenger vi å lære andre lands kulturer og matvaner. Innovasjon Norges utekontor er viktige samarbeidspartnere for å øke bedriftenes markedskunnskap og kulturforståelse. Utekontorene gir nødvendig drahjelp for å introdusere produktene i mulige markeder, forteller Claus Opshaug, daglig leder i C Food Norway.\\nStort potensial i Asia\\nI prosjektet kalt «Fishhead» skal bedriften utvikle et nytt grønt forretningskonsept i tett og langsiktig samarbeid med leverandører, utstyrsprodusenter og kunder. Planen er å produsere både tørkede, fryste, salta og hermetiserte hvitfiskhoder til bruk i måltider.\\n- Dette er et interessant og et viktig prosjekt med stort potensial, spesielt i Asia. C Food Norway er en foregangsbedrift for bransjen, sier Kari-Anne Lade Gjørvad, kunderådgiver for Innovasjon Norge Møre og Romsdal.\\n \\n</td>\n",
       "    </tr>\n",
       "  </tbody>\n",
       "</table>\n",
       "</div>"
      ],
      "text/plain": [
       "                                                                                0  \\\n",
       "0     https://www.innovasjonnorge.no/no/tjenester/kundehistorier/2022/wonderland/   \n",
       "1  https://www.innovasjonnorge.no/no/tjenester/kundehistorier/2022/c-food-norway/   \n",
       "\n",
       "                                                                                                                                                                                 1  \\\n",
       "0                           Med 350 millioner kroner i omsetning er Wonderland en av de største sengeprodusentene i Norge. Nå vil selskapet på Åndalsnes øke eksporten til Europa.   \n",
       "1  Bedre utnyttelse av fiskefangst la grunnlaget for C Food Norway. Nå bistår Innovasjon Norge bedriften med å utvikle en bærekraftig forretningsmodell for bruk av fiskehoder.      \n",
       "\n",
       "                                                                                                                                                                                                                                                                                                 2  \\\n",
       "0  En høyteknologisk robotlinje sørger for at skumgummi, fjærer og andre komponenter plasseres riktig og blir til en «liggeflate» i andre enden. For femti år siden ble den første skummadrassen laget, og nå produserer Wonderland over 90 000 madrasser i året i fabrikkanlegget på Åndalsnes.\\n   \n",
       "1                                          Norge er en stor og viktig sjømatnasjon, men vi har potensial for å bli både mer bærekraftig og skape større verdier av det vi fangster. Målet er at alt vi fangster skal utnyttes, og ikke noe av fangsten skal gå til spille.\\nDrahjelp ut i verden\\n   \n",
       "\n",
       "                                                                                                                                                                                                                                                                                                                                                                                                                                                                                                                                                                                                                                                                                                                                                                                                                                                                                                                                                                                                                                                                                                                                                                                                                                                                                     3  \n",
       "0                                                                                                                                                                                                                                                                                                                                                                                                                                                                                                               \\n- I robotlinja har vi mulighet til å produsere to-tre ganger flere madrasser om markedet skulle ønske det. Vi tenker at en vekst skal skje på eksport, der Norden og deler av EU vil være vår prioritet, sier administrerende direktør i Wonderland, Lars Stenerud.\\nSengeprodusenten kan se tilbake på fem tiår med skiftende eierskap, krevende markeder og hard konkurranse. Wonderland har klart seg godt og vil nå vokse videre. De eksporterer noe til Norden allerede, men har et mål om å øke eksporten til Europa. Ved å delta i Innovasjon Norges program for eksportutvikling, Global Gateways, får de tett oppfølging gjennom hele eksportprosessen. Vi bidrar med kompetanse, rådgivning og nettverk for å sikre raskere tilgang til nye markeder.\\n \\n  \n",
       "1  \\nC Food Norway har jobbet mye med å utnytte rester av hvitfisk til mat og helsekostprodukter siden etableringen i 2013. Ålesund-bedriften har kommet langt med å utnytte fiskerygger og svømmeblærer, og er i gang med å utvikle bærekraftige og lønnsomme verdikjeder for fiskehoder. I mange land blir nettopp hodet betraktet som den beste delen av fisken.\\n- For å lykkes med nye sjømatprodukter i et globalt marked, trenger vi å lære andre lands kulturer og matvaner. Innovasjon Norges utekontor er viktige samarbeidspartnere for å øke bedriftenes markedskunnskap og kulturforståelse. Utekontorene gir nødvendig drahjelp for å introdusere produktene i mulige markeder, forteller Claus Opshaug, daglig leder i C Food Norway.\\nStort potensial i Asia\\nI prosjektet kalt «Fishhead» skal bedriften utvikle et nytt grønt forretningskonsept i tett og langsiktig samarbeid med leverandører, utstyrsprodusenter og kunder. Planen er å produsere både tørkede, fryste, salta og hermetiserte hvitfiskhoder til bruk i måltider.\\n- Dette er et interessant og et viktig prosjekt med stort potensial, spesielt i Asia. C Food Norway er en foregangsbedrift for bransjen, sier Kari-Anne Lade Gjørvad, kunderådgiver for Innovasjon Norge Møre og Romsdal.\\n \\n  "
      ]
     },
     "execution_count": 4,
     "metadata": {},
     "output_type": "execute_result"
    }
   ],
   "source": [
    "df.head(2)"
   ]
  },
  {
   "cell_type": "code",
   "execution_count": 5,
   "metadata": {},
   "outputs": [
    {
     "data": {
      "text/plain": [
       "(149, 4)"
      ]
     },
     "execution_count": 5,
     "metadata": {},
     "output_type": "execute_result"
    }
   ],
   "source": [
    "df.shape"
   ]
  },
  {
   "cell_type": "code",
   "execution_count": 6,
   "metadata": {},
   "outputs": [],
   "source": [
    "# create a new column with last word between '/' from each link\n",
    "# this is the product name\n",
    "df[4] = df[0].str.split('/').str[-2]"
   ]
  },
  {
   "cell_type": "code",
   "execution_count": 7,
   "metadata": {},
   "outputs": [],
   "source": [
    "# create list from column with product names\n",
    "product_names = df[4].tolist()"
   ]
  },
  {
   "cell_type": "code",
   "execution_count": 8,
   "metadata": {},
   "outputs": [
    {
     "data": {
      "text/plain": [
       "149"
      ]
     },
     "execution_count": 8,
     "metadata": {},
     "output_type": "execute_result"
    }
   ],
   "source": [
    "len(product_names)"
   ]
  },
  {
   "cell_type": "code",
   "execution_count": 9,
   "metadata": {},
   "outputs": [
    {
     "name": "stdout",
     "output_type": "stream",
     "text": [
      "wonderland\n",
      "c-food-norway\n",
      "exotek\n",
      "miljo-norge\n",
      "oceangrid\n",
      "appsens\n",
      "beefutures-holding\n",
      "oso-hotwater\n",
      "gronn-gjodsel\n",
      "gudbrandsdalens-uldvarefabrik\n",
      "diffia\n",
      "synergy-sky\n",
      "windsim\n",
      "trysil-maskin\n",
      "slettvoll-mobler\n",
      "novelda\n",
      "hardanger-siderprodusentlag\n",
      "ducky\n",
      "pixii\n",
      "nammo-raufoss\n",
      "tunable\n",
      "sunlit-sea\n",
      "ca-technology-systems\n",
      "origo-solutions\n",
      "vil-gjore-kysten-utslippsfri-med-hydrogen\n",
      "easee\n",
      "kongsberg-satellite-services\n",
      "zooca\n",
      "arbaflame\n",
      "bright-products\n",
      "yedlik\n",
      "falstadsenteret-drift\n",
      "elliptic-labs\n",
      "drytech\n",
      "innovern\n",
      "deep-purple\n",
      "hycast\n",
      "link-analytix\n",
      "touchnetix\n",
      "greentech-innovators\n",
      "cycled-technologies\n",
      "innsep\n",
      "fixrate\n",
      "secure-practice\n",
      "corvus-energy-og-lmg-marin\n",
      "oceanize\n",
      "checkware\n",
      "jentene-pa-tunet\n",
      "turbulent-flux\n",
      "leroy-sjotroll\n",
      "waterise\n",
      "exentric\n",
      "e-plug\n",
      "vestre\n",
      "beyonder\n",
      "planktonic\n",
      "cinderella-eco-group\n",
      "borregaard\n",
      "sevendof\n",
      "kobler\n",
      "bliksund\n",
      "csub\n",
      "onio\n",
      "gardsbrenneriet\n",
      "airthings\n",
      "skala-maskon\n",
      "decon-x-international\n",
      "nordkontakt\n",
      "anue\n",
      "bridgehill\n",
      "weisstech\n",
      "elop\n",
      "laviair\n",
      "vixel\n",
      "attensi\n",
      "oliasoft\n",
      "marine-recycling-cluster\n",
      "spilltech\n",
      "maritech-systems\n",
      "wai-environmental-solutions\n",
      "funzionano\n",
      "fjordalg\n",
      "intin\n",
      "autostore\n",
      "the-whale\n",
      "rubrikk-group\n",
      "barum-kommune---vann-og-avlop\n",
      "shoreline\n",
      "energynest\n",
      "spacemaker\n",
      "lifeness\n",
      "signicat\n",
      "tidewave-rd\n",
      "roommate\n",
      "heimdall-power\n",
      "cimon-medical\n",
      "malthe-winje\n",
      "prodtex-industri\n",
      "quantafuel\n",
      "pexip\n",
      "rayvn\n",
      "motitech\n",
      "tomra\n",
      "evoy\n",
      "n2-applied\n",
      "byggstart\n",
      "hamran-snekkerverksted\n",
      "barel\n",
      "less\n",
      "clevair\n",
      "multitapping\n",
      "respinor\n",
      "biozin\n",
      "dyrekassen\n",
      "epiguard2\n",
      "helseapps\n",
      "bakken-ovre-gardsmat\n",
      "jordpro\n",
      "boost-ai\n",
      "foamrox\n",
      "bi-builders\n",
      "futurehome\n",
      "shipshave\n",
      "envir\n",
      "mazemap\n",
      "podbike\n",
      "nordic-unmanned\n",
      "minimeis\n",
      "my-voice\n",
      "7sense-products\n",
      "epiguard\n",
      "waister\n",
      "cryogenetics\n",
      "aspit\n",
      "globus-ai\n",
      "dualog\n",
      "minuendo\n",
      "applied-autonomy\n",
      "ecoonline\n",
      "brim-holding\n",
      "saga-robotics\n",
      "norsun\n",
      "offshorecrew\n",
      "autoagri\n",
      "ment\n",
      "codeit\n",
      "imal-norge\n",
      "woodcon\n",
      "sharebox\n"
     ]
    }
   ],
   "source": [
    "for product in product_names:\n",
    "    print(product)"
   ]
  },
  {
   "cell_type": "code",
   "execution_count": 10,
   "metadata": {},
   "outputs": [],
   "source": [
    "# copy dataframe to continue with concatenation and cleaning\n",
    "df_copy = df.copy()"
   ]
  },
  {
   "cell_type": "code",
   "execution_count": 11,
   "metadata": {},
   "outputs": [],
   "source": [
    "# concatenate columns 1, 2 and 3 into a new column\n",
    "df_copy[5] = df_copy[1] + ' ' + df_copy[2] + ' ' + df_copy[3]"
   ]
  },
  {
   "cell_type": "code",
   "execution_count": 12,
   "metadata": {},
   "outputs": [],
   "source": [
    "# delete columns 1, 2 and 3\n",
    "df_copy.drop(columns=[1, 2, 3], inplace=True)"
   ]
  },
  {
   "cell_type": "code",
   "execution_count": 13,
   "metadata": {},
   "outputs": [],
   "source": [
    "# replace NaN values with empty string in all columns\n",
    "df_copy.fillna('', inplace=True)"
   ]
  },
  {
   "cell_type": "code",
   "execution_count": 14,
   "metadata": {},
   "outputs": [],
   "source": [
    "# function to clean the description text\n",
    "# creates a new column with cleaned text\n",
    "def cleanhtml():\n",
    "    # remove html tags\n",
    "    cleanr = re.compile('<.*?>')\n",
    "    \n",
    "    rows = df_copy[5]\n",
    "    listcleantext = []\n",
    "    for r in rows:\n",
    "        cleantext = re.sub(cleanr, '', r)\n",
    "        \n",
    "        # replace new line \\n with empty space\n",
    "        cleantext = cleantext.replace('\\n', ' ')\n",
    "        \n",
    "        # replace &quot; with single quote\n",
    "        cleantext = cleantext.replace('&quot;', \"''\")\n",
    "        \n",
    "        # replace &nbsp with empty space\n",
    "        cleantext = cleantext.replace('&nbsp', ' ')\n",
    "        \n",
    "        listcleantext.append(cleantext)\n",
    "    df_copy[6] = listcleantext\n",
    "    return"
   ]
  },
  {
   "cell_type": "code",
   "execution_count": 15,
   "metadata": {},
   "outputs": [],
   "source": [
    "cleanhtml()"
   ]
  },
  {
   "cell_type": "code",
   "execution_count": 17,
   "metadata": {},
   "outputs": [],
   "source": [
    "# remove column 5\n",
    "df_copy.drop(columns=[5], inplace=True)"
   ]
  },
  {
   "cell_type": "code",
   "execution_count": 18,
   "metadata": {},
   "outputs": [
    {
     "data": {
      "text/html": [
       "<div>\n",
       "<style scoped>\n",
       "    .dataframe tbody tr th:only-of-type {\n",
       "        vertical-align: middle;\n",
       "    }\n",
       "\n",
       "    .dataframe tbody tr th {\n",
       "        vertical-align: top;\n",
       "    }\n",
       "\n",
       "    .dataframe thead th {\n",
       "        text-align: right;\n",
       "    }\n",
       "</style>\n",
       "<table border=\"1\" class=\"dataframe\">\n",
       "  <thead>\n",
       "    <tr style=\"text-align: right;\">\n",
       "      <th></th>\n",
       "      <th>0</th>\n",
       "      <th>4</th>\n",
       "      <th>6</th>\n",
       "    </tr>\n",
       "  </thead>\n",
       "  <tbody>\n",
       "    <tr>\n",
       "      <th>0</th>\n",
       "      <td>https://www.innovasjonnorge.no/no/tjenester/kundehistorier/2022/wonderland/</td>\n",
       "      <td>wonderland</td>\n",
       "      <td>Med 350 millioner kroner i omsetning er Wonderland en av de største sengeprodusentene i Norge. Nå vil selskapet på Åndalsnes øke eksporten til Europa. En høyteknologisk robotlinje sørger for at skumgummi, fjærer og andre komponenter plasseres riktig og blir til en «liggeflate» i andre enden. For femti år siden ble den første skummadrassen laget, og nå produserer Wonderland over 90 000 madrasser i året i fabrikkanlegget på Åndalsnes.   - I robotlinja har vi mulighet til å produsere to-tre ganger flere madrasser om markedet skulle ønske det. Vi tenker at en vekst skal skje på eksport, der Norden og deler av EU vil være vår prioritet, sier administrerende direktør i Wonderland, Lars Stenerud. Sengeprodusenten kan se tilbake på fem tiår med skiftende eierskap, krevende markeder og hard konkurranse. Wonderland har klart seg godt og vil nå vokse videre. De eksporterer noe til Norden allerede, men har et mål om å øke eksporten til Europa. Ved å delta i Innovasjon Norges program for eksportutvikling, Global Gateways, får de tett oppfølging gjennom hele eksportprosessen. Vi bidrar med kompetanse, rådgivning og nettverk for å sikre raskere tilgang til nye markeder.</td>\n",
       "    </tr>\n",
       "    <tr>\n",
       "      <th>1</th>\n",
       "      <td>https://www.innovasjonnorge.no/no/tjenester/kundehistorier/2022/c-food-norway/</td>\n",
       "      <td>c-food-norway</td>\n",
       "      <td>Bedre utnyttelse av fiskefangst la grunnlaget for C Food Norway. Nå bistår Innovasjon Norge bedriften med å utvikle en bærekraftig forretningsmodell for bruk av fiskehoder.    Norge er en stor og viktig sjømatnasjon, men vi har potensial for å bli både mer bærekraftig og skape større verdier av det vi fangster. Målet er at alt vi fangster skal utnyttes, og ikke noe av fangsten skal gå til spille. Drahjelp ut i verden   C Food Norway har jobbet mye med å utnytte rester av hvitfisk til mat og helsekostprodukter siden etableringen i 2013. Ålesund-bedriften har kommet langt med å utnytte fiskerygger og svømmeblærer, og er i gang med å utvikle bærekraftige og lønnsomme verdikjeder for fiskehoder. I mange land blir nettopp hodet betraktet som den beste delen av fisken. - For å lykkes med nye sjømatprodukter i et globalt marked, trenger vi å lære andre lands kulturer og matvaner. Innovasjon Norges utekontor er viktige samarbeidspartnere for å øke bedriftenes markedskunnskap og kulturforståelse. Utekontorene gir nødvendig drahjelp for å introdusere produktene i mulige markeder, forteller Claus Opshaug, daglig leder i C Food Norway. Stort potensial i Asia I prosjektet kalt «Fishhead» skal bedriften utvikle et nytt grønt forretningskonsept i tett og langsiktig samarbeid med leverandører, utstyrsprodusenter og kunder. Planen er å produsere både tørkede, fryste, salta og hermetiserte hvitfiskhoder til bruk i måltider. - Dette er et interessant og et viktig prosjekt med stort potensial, spesielt i Asia. C Food Norway er en foregangsbedrift for bransjen, sier Kari-Anne Lade Gjørvad, kunderådgiver for Innovasjon Norge Møre og Romsdal.</td>\n",
       "    </tr>\n",
       "    <tr>\n",
       "      <th>2</th>\n",
       "      <td>https://www.innovasjonnorge.no/no/tjenester/kundehistorier/2022/exotek/</td>\n",
       "      <td>exotek</td>\n",
       "      <td>Ønsket om at mennesker med funksjonsnedsettelser også kan ta seg frem i naturen, dannet grunnlaget for Exotek. Den første helelektriske, terrenggående firhjulingen er snart i salg. Etter en sykkelulykke i 2015 mistet Sigurd Groven følelsen fra brystet og ned, men ønsket om å være aktiv og å være med familien ut i naturen var fortsatt stort. Sigurd hadde prøvd forskjellige kjøretøy, blant annet en franskprodusert firhjuling, men ingenting som var godt nok til det behovet han hadde. Da Mattias Storvestre og kjæresten, som sitter i rullestol, ble foreldre for første gang i 2016 merket de etter hvert hvor vanskelig det var for familien å være ute sammen i skog og mark, med rullestolen. Mattias, som har bakgrunn som flymekaniker, utviklet derfor en helelektrisk firhjuling til samboeren sin, basert på en franskproduserte ramme. Utviklet for eget behov Litt senere møttes Mattias og Sigurd på en aktivitetscamp for ryggmargsskadde. Sigurd hadde den samme franskproduserte firhjulingen, og spurte om Mattias ville bygge om den også. Mattias bygde om flere modeller før han til slutt utviklet en helt egen ramme for å få best mulig fremkommelighet og komfort. Resultatet ble Exoquad. – Den nye firhjulingen åpnet opp en helt ny verden for meg, sier Sigurd. Mennene konkluderte med at her er det et hull i markedet og startet opp Exotek i 2020.   – Vi ønsker at flest mulig får tilgang til «Exoquad», men siden den er såpass kostbar vil vi se på ulike løsninger som utleie og salg til stiftelser, aktivitetsparker og organisasjoner, i tillegg til å selge til privatkunder, forteller Sigurd. Finansieringsrådgiver Mari Dorte Jønland Michaelsen for Innovasjon Norge Møre og Romsdal, har hatt dialog med selskapet hele veien. - Teamet i Exotek har demonstrert meget god gjennomføringsevne siden starten, og de er genuint opptatt av å levere på kundenes behov. De har planlagt grundig og benyttet relevante tjenester for hver utviklingsfase. Vi ser nå en spennende vekst, med etablering av produksjon for å møte etterspørselen, forteller hun.</td>\n",
       "    </tr>\n",
       "    <tr>\n",
       "      <th>3</th>\n",
       "      <td>https://www.innovasjonnorge.no/no/tjenester/kundehistorier/2022/miljo-norge/</td>\n",
       "      <td>miljo-norge</td>\n",
       "      <td>De fleste brannslukningsapparater i Norge kastes etter bruk eller når de er utdatert. Dette vil det Lier-baserte selskapet Miljø Norge gjøre noe med. Deres løsning kan skape arbeidsplasser og bidra til stor reduksjon av CO2-utslipp, og de har nå fått miljøteknologitilskudd på 26 millioner kroner fra Innovasjon Norge. - Dette tilskuddet vil sørge for at færre brannslukkere kastes, og miljøeffekten av dette er enorm. Vi er veldig glade for dette tilskuddet fra Innovasjon Norge, sier Nils Aulie, administrerende direktør i Miljø Norge. Stort miljøproblem I Norge estimeres det å være over ti millioner brannslukkere. Årlig må omtrent en million av disse på service eller erstattes. Ved å gjenbruke brannslukkere i Norge vil selskapet redusere behovet for import og dermed redusere det totale CO2-uslippet kraftig. Det blir mindre transport og mindre uttak av råvarer. Det kreves hele fire kilo stål for å produsere en ny brannslukker i dag. - Resertifisering av brannslukkere er et godt eksempel på hvordan sirkulære løsninger kan ta ned ressursforbruket, forteller spesialrådgiver for Innovasjon Norge i Oslo og Viken, Ann-Mari Skinne. - Etablering av en automatisert produksjonslinje for resertifisering av slukkere er nytt. Overgangen til en sirkulær forretningsmodell krever innovasjon i mange ledd, sier hun.       Sirkulær forretningsmodell Selskapet har designet en sirkulær forretningsmodell, der utdaterte brannslukkere tas inn for service og returneres tilbake til kunden - like god som ny. Service på brannslukkere foregår ved at apparatet tømmes, inspiseres, refylles og trykksettes på nytt. Gjennom automasjon og digitalisering har selskapet utviklet en produksjonslinje som sikrer både stabil høy kvalitet og et høyt produksjonsvolum. Miljøbesparelsene ved en gjenbrukt brannslukker er 38 kg CO2. Over tid forventes det å skape opp til seksti nye arbeidsplasser ved anlegget i Lier. Ved å samarbeide med flere aktører i verdikjeden som avfallsmottakere, detaljhandel, byggevarekjeder, brannforebyggende aktører, distributører med flere, ønsker selskapet å forenkle retur- og anskaffelsesprosessen for kundene. Markedspotensialet inn mot næring, offentlige bygg, infrastruktur og eiendomsutvikling er stort, og selskapet har en klar målsetning om å løse dagens utfordringer og tilby sirkulære alternativer. - Vi er i dialog med en rekke store aktører, som kan sette ny standard i sin bransje. Responsen hittil har vært entydig positiv, og vi får bekreftelse på at dette er en etterlengtet løsning, sier Aulie. Tilskudd til miljøteknologi Tilskuddet på 26 millioner de nå har fått fra Innovasjon Norge skal gå til investeringer i produksjonslinjen, og å sette i gang nye arbeidsprosesser i bedriftens lokaler i Lier utenfor Drammen. - Innovasjon Norge har bevilget penger til prosjektet for å ta ned risikoen for selskapet og styrke gjennomføringsevnen. Vi er flinke på innsamling i Norge, men vi trenger flere gode eksempler på løsninger høyt opp i avfallshierarkiet, sier spesialrådgiver Skinne. - Vi skal gjøre det enkelt for kunden å ta bærekraftige valg når de bytter ut eller handler ny brannslukker. Gjennom tilskuddet fra Innovasjon Norge får vi bygd en produksjonslinje som vil sørge for at andelen gjenbrukte brannslukkere øker betraktelig, forteller Aulie.</td>\n",
       "    </tr>\n",
       "    <tr>\n",
       "      <th>4</th>\n",
       "      <td>https://www.innovasjonnorge.no/no/tjenester/kundehistorier/2022/oceangrid/</td>\n",
       "      <td>oceangrid</td>\n",
       "      <td>Ein mangeårig fascinasjon for vind og bølgjekrefter var utløysande for etableringa av Oceangrid. Dei utviklar ein ny metode for havbotninstallasjonar av flytande havvindplattformar. Med på laget har dei fått tre solide investorar, og Innovasjon Norge får delar av æra for dette. 99 prosent av dagens havvindparkar er botnfaste og ligg relativt nær land, kor det ikkje er så djupt. Lenger ute i havet ligg det eit stort potensial i vindkraft, men jo djupare havet er, desto dyrare vert havvindparkane. Det er her løysinga til Oceangrid kjem inn i biletet. -  Vår plattform er designa for å være optimal der havdjupna er 50-300 meter, seier gründer Bjarte Nordvik. Samanstilling til havs Nordvik meiner at dei har teke det beste frå fleire kjente teknologiar og sett dei saman på ein måte som vil effektivisere prosessane for korleis ein samanstillar og installerer plattformar for flytande havvind. -  Vårt konsept går ut på at plattforma i hovudsak skal settast saman av to modular, der vi kan gjere samanstillinga flytande utan at modular på fleire 1000 tonn vert løfta på land. Slik kan samanstilling av ein havvindplattform gjennomførast i løpet av eit par veker, i staden for tre til fire månader som er dagens situasjon, fortel Nordvik. Gjennom designet av plattforma med tilhøyrande forankring og el-kabel, er det vidare lagt stor vekt på at installasjonane skal sette minst mogleg avtrykk i havet og på havbotnen elles. Dette for å sikre best mogleg sameksistens mellom havvindsutbyggingar, marint liv og annan type havbruksnæring innanfor same havområde. Inspirasjon frå ubåtmiljøet Gründeren er utdanna mariningeniør gjennom sjøkrigsskulen og har tenestegjort på ubåt i ei årrekke. - Eg har meir eller mindre vakse opp i «bølgjesonen», som har bidrege til stor interesse og respekt for dette som fagfelt. Det er ingen tvil om at prosjektet er kapitalkrevjande med eit langt utviklingsløp, og til no har det handla om å rigge prosjektet og å starte på verifiseringa av teknologien. Oceangrid har motteke både tilskot til marknadsavklaring og tilskot til miljøteknologi frå Innovasjon Norge. - Eg trur ikkje vi hadde vore der vi er i dag utan støtte frå Innovasjon Norge i tidleg fase. Vi brukte marknadsavklaringstilskotet på å avklare teknologien og markanden, og videre danne eit realistisk bilde av korleis framtidas flytande havvindsprosjekt vil bli gjennomført frå designfase til montering, installasjon, drift og avvikling. Gjennom støtta frå miljøteknologiordninga er målet no å ta løysinga til TRL-nivå 4-5, seier Nordvik.       Store ambisjonar I tillegg til det finansielle bidraget frå Innovasjon Norge, peikar Nordvik også på viktigheita av sparring i tidleg fase. - Rådgjevaren har vore ein god støttespelar for oss, med korrekte og ærlege tilbakemeldingar. Han har mellom anna bidrege til å guide oss i riktig retning. Gründeren meiner også at støtta frå Innovasjon Norge har vore viktig i prosessen med å hente inn investorar og samarbeidspartnarar. Og det er ikkje kven som helst dei har fått med seg. - Når ein snakkar med investorar, så er det eit kvalitetsstempel å vise til at ein har motteke støtte frå Innovasjon Norge. Vi har fått med oss fire solide investorar; Valinor, Mosvold Kapital, Zukunftige Werte og Fjord Base Holding. Med dette har vi med oss eit energiselskap som kan industrien, vi har dei som skal bygge og stå for logistikk, og så har vi ein finansiell investor. Dersom Oceangrid lukkast med å få verifisert konseptet i miljøteknologi-prosjektet, er neste mål å søke om EU-finansiering til å bygge pilot. Ein draumekunde Finansieringsrådgjevar Kjell Haganes ved Innovasjon Norges Vestland-kontor er ikkje i tvil om at det er mogleg for Oceangrid å nå målsetnadane. - Det er dyrt å bygge ut havvind, spesielt flytande. Dette prosjektet har potensialet til å redusere kostnad per produsert kilowatt betydeleg. Her snakkar vi om et sterkt team, som har fått med seg gode samarbeidspartnarar, og som er audmjuke og lyttar til dei råda dei får undervegs. Haganes peikar vidare på at løysingar innanfor havvind er noko som vert etterspurt av norske myndigheiter, og at Oceangrid sitt prosjekt er veldig relevant i denne samanheng. - For Innovasjon Norge er dette ein draumekunde, seier Haganes.</td>\n",
       "    </tr>\n",
       "  </tbody>\n",
       "</table>\n",
       "</div>"
      ],
      "text/plain": [
       "                                                                                0  \\\n",
       "0     https://www.innovasjonnorge.no/no/tjenester/kundehistorier/2022/wonderland/   \n",
       "1  https://www.innovasjonnorge.no/no/tjenester/kundehistorier/2022/c-food-norway/   \n",
       "2         https://www.innovasjonnorge.no/no/tjenester/kundehistorier/2022/exotek/   \n",
       "3    https://www.innovasjonnorge.no/no/tjenester/kundehistorier/2022/miljo-norge/   \n",
       "4      https://www.innovasjonnorge.no/no/tjenester/kundehistorier/2022/oceangrid/   \n",
       "\n",
       "               4  \\\n",
       "0     wonderland   \n",
       "1  c-food-norway   \n",
       "2         exotek   \n",
       "3    miljo-norge   \n",
       "4      oceangrid   \n",
       "\n",
       "                                                                                                                                                                                                                                                                                                                                                                                                                                                                                                                                                                                                                                                                                                                                                                                                                                                                                                                                                                                                                                                                                                                                                                                                                                                                                                                                                                                                                                                                                                                                                                                                                                                                                                                                                                                                                                                                                                                                                                                                                                                                                                                                                                                                                                                                                                                                                                                                                                                                                                                                                                                                                                                                                                                                                                                                                                                                                                                                                                                                                                                                                                                                                                                                                                                                                                                                                                                                                                                                                                                                                                                                                                                                                                                                                                                                                                                                                                                                                                                                                                                                                                                                                                                                                                                                                                                                                                                                               6  \n",
       "0                                                                                                                                                                                                                                                                                                                                                                                                                                                                                                                                                                                                                                                                                                                                                                                                                                                                                                                                                                                                                                                                                                                                                                                                                                                                                                                                                                                                                                                                                                                                                                                                                                                                                                                                                                                                                                                                                                                                                                                                                                                                                                                                                                                                                                                                                                                                                                                                                                                                                                                                                                                                                                                                                                                                                                                                                                                                                                                                                                                                                                                                                                                                                                                       Med 350 millioner kroner i omsetning er Wonderland en av de største sengeprodusentene i Norge. Nå vil selskapet på Åndalsnes øke eksporten til Europa. En høyteknologisk robotlinje sørger for at skumgummi, fjærer og andre komponenter plasseres riktig og blir til en «liggeflate» i andre enden. For femti år siden ble den første skummadrassen laget, og nå produserer Wonderland over 90 000 madrasser i året i fabrikkanlegget på Åndalsnes.   - I robotlinja har vi mulighet til å produsere to-tre ganger flere madrasser om markedet skulle ønske det. Vi tenker at en vekst skal skje på eksport, der Norden og deler av EU vil være vår prioritet, sier administrerende direktør i Wonderland, Lars Stenerud. Sengeprodusenten kan se tilbake på fem tiår med skiftende eierskap, krevende markeder og hard konkurranse. Wonderland har klart seg godt og vil nå vokse videre. De eksporterer noe til Norden allerede, men har et mål om å øke eksporten til Europa. Ved å delta i Innovasjon Norges program for eksportutvikling, Global Gateways, får de tett oppfølging gjennom hele eksportprosessen. Vi bidrar med kompetanse, rådgivning og nettverk for å sikre raskere tilgang til nye markeder.     \n",
       "1                                                                                                                                                                                                                                                                                                                                                                                                                                                                                                                                                                                                                                                                                                                                                                                                                                                                                                                                                                                                                                                                                                                                                                                                                                                                                                                                                                                                                                                                                                                                                                                                                                                                                                                                                                                                                                                                                                                                                                                                                                                                                                                                                                                                                                                                                                                                                                                                                                                                                                                                                                                                                                                                                             Bedre utnyttelse av fiskefangst la grunnlaget for C Food Norway. Nå bistår Innovasjon Norge bedriften med å utvikle en bærekraftig forretningsmodell for bruk av fiskehoder.    Norge er en stor og viktig sjømatnasjon, men vi har potensial for å bli både mer bærekraftig og skape større verdier av det vi fangster. Målet er at alt vi fangster skal utnyttes, og ikke noe av fangsten skal gå til spille. Drahjelp ut i verden   C Food Norway har jobbet mye med å utnytte rester av hvitfisk til mat og helsekostprodukter siden etableringen i 2013. Ålesund-bedriften har kommet langt med å utnytte fiskerygger og svømmeblærer, og er i gang med å utvikle bærekraftige og lønnsomme verdikjeder for fiskehoder. I mange land blir nettopp hodet betraktet som den beste delen av fisken. - For å lykkes med nye sjømatprodukter i et globalt marked, trenger vi å lære andre lands kulturer og matvaner. Innovasjon Norges utekontor er viktige samarbeidspartnere for å øke bedriftenes markedskunnskap og kulturforståelse. Utekontorene gir nødvendig drahjelp for å introdusere produktene i mulige markeder, forteller Claus Opshaug, daglig leder i C Food Norway. Stort potensial i Asia I prosjektet kalt «Fishhead» skal bedriften utvikle et nytt grønt forretningskonsept i tett og langsiktig samarbeid med leverandører, utstyrsprodusenter og kunder. Planen er å produsere både tørkede, fryste, salta og hermetiserte hvitfiskhoder til bruk i måltider. - Dette er et interessant og et viktig prosjekt med stort potensial, spesielt i Asia. C Food Norway er en foregangsbedrift for bransjen, sier Kari-Anne Lade Gjørvad, kunderådgiver for Innovasjon Norge Møre og Romsdal.     \n",
       "2                                                                                                                                                                                                                                                                                                                                                                                                                                                                                                                                                                                                                                                                                                                                                                                                                                                                                                                                                                                                                                                                                                                                                                                                                                                                                                                                                                                                                                                                                                                                                                                                                                                                                                                                                                                                                                                                                                                                                                                                                                                                                                                                                                                                                                                                                    Ønsket om at mennesker med funksjonsnedsettelser også kan ta seg frem i naturen, dannet grunnlaget for Exotek. Den første helelektriske, terrenggående firhjulingen er snart i salg. Etter en sykkelulykke i 2015 mistet Sigurd Groven følelsen fra brystet og ned, men ønsket om å være aktiv og å være med familien ut i naturen var fortsatt stort. Sigurd hadde prøvd forskjellige kjøretøy, blant annet en franskprodusert firhjuling, men ingenting som var godt nok til det behovet han hadde. Da Mattias Storvestre og kjæresten, som sitter i rullestol, ble foreldre for første gang i 2016 merket de etter hvert hvor vanskelig det var for familien å være ute sammen i skog og mark, med rullestolen. Mattias, som har bakgrunn som flymekaniker, utviklet derfor en helelektrisk firhjuling til samboeren sin, basert på en franskproduserte ramme. Utviklet for eget behov Litt senere møttes Mattias og Sigurd på en aktivitetscamp for ryggmargsskadde. Sigurd hadde den samme franskproduserte firhjulingen, og spurte om Mattias ville bygge om den også. Mattias bygde om flere modeller før han til slutt utviklet en helt egen ramme for å få best mulig fremkommelighet og komfort. Resultatet ble Exoquad. – Den nye firhjulingen åpnet opp en helt ny verden for meg, sier Sigurd. Mennene konkluderte med at her er det et hull i markedet og startet opp Exotek i 2020.   – Vi ønsker at flest mulig får tilgang til «Exoquad», men siden den er såpass kostbar vil vi se på ulike løsninger som utleie og salg til stiftelser, aktivitetsparker og organisasjoner, i tillegg til å selge til privatkunder, forteller Sigurd. Finansieringsrådgiver Mari Dorte Jønland Michaelsen for Innovasjon Norge Møre og Romsdal, har hatt dialog med selskapet hele veien. - Teamet i Exotek har demonstrert meget god gjennomføringsevne siden starten, og de er genuint opptatt av å levere på kundenes behov. De har planlagt grundig og benyttet relevante tjenester for hver utviklingsfase. Vi ser nå en spennende vekst, med etablering av produksjon for å møte etterspørselen, forteller hun.     \n",
       "3                                                                                                                                                                                                                                                                                                                                                                                                                                                                                                                                                                                                                                                                                                                                                                                                                                                                                                                                                                                           De fleste brannslukningsapparater i Norge kastes etter bruk eller når de er utdatert. Dette vil det Lier-baserte selskapet Miljø Norge gjøre noe med. Deres løsning kan skape arbeidsplasser og bidra til stor reduksjon av CO2-utslipp, og de har nå fått miljøteknologitilskudd på 26 millioner kroner fra Innovasjon Norge. - Dette tilskuddet vil sørge for at færre brannslukkere kastes, og miljøeffekten av dette er enorm. Vi er veldig glade for dette tilskuddet fra Innovasjon Norge, sier Nils Aulie, administrerende direktør i Miljø Norge. Stort miljøproblem I Norge estimeres det å være over ti millioner brannslukkere. Årlig må omtrent en million av disse på service eller erstattes. Ved å gjenbruke brannslukkere i Norge vil selskapet redusere behovet for import og dermed redusere det totale CO2-uslippet kraftig. Det blir mindre transport og mindre uttak av råvarer. Det kreves hele fire kilo stål for å produsere en ny brannslukker i dag. - Resertifisering av brannslukkere er et godt eksempel på hvordan sirkulære løsninger kan ta ned ressursforbruket, forteller spesialrådgiver for Innovasjon Norge i Oslo og Viken, Ann-Mari Skinne. - Etablering av en automatisert produksjonslinje for resertifisering av slukkere er nytt. Overgangen til en sirkulær forretningsmodell krever innovasjon i mange ledd, sier hun.       Sirkulær forretningsmodell Selskapet har designet en sirkulær forretningsmodell, der utdaterte brannslukkere tas inn for service og returneres tilbake til kunden - like god som ny. Service på brannslukkere foregår ved at apparatet tømmes, inspiseres, refylles og trykksettes på nytt. Gjennom automasjon og digitalisering har selskapet utviklet en produksjonslinje som sikrer både stabil høy kvalitet og et høyt produksjonsvolum. Miljøbesparelsene ved en gjenbrukt brannslukker er 38 kg CO2. Over tid forventes det å skape opp til seksti nye arbeidsplasser ved anlegget i Lier. Ved å samarbeide med flere aktører i verdikjeden som avfallsmottakere, detaljhandel, byggevarekjeder, brannforebyggende aktører, distributører med flere, ønsker selskapet å forenkle retur- og anskaffelsesprosessen for kundene. Markedspotensialet inn mot næring, offentlige bygg, infrastruktur og eiendomsutvikling er stort, og selskapet har en klar målsetning om å løse dagens utfordringer og tilby sirkulære alternativer. - Vi er i dialog med en rekke store aktører, som kan sette ny standard i sin bransje. Responsen hittil har vært entydig positiv, og vi får bekreftelse på at dette er en etterlengtet løsning, sier Aulie. Tilskudd til miljøteknologi Tilskuddet på 26 millioner de nå har fått fra Innovasjon Norge skal gå til investeringer i produksjonslinjen, og å sette i gang nye arbeidsprosesser i bedriftens lokaler i Lier utenfor Drammen. - Innovasjon Norge har bevilget penger til prosjektet for å ta ned risikoen for selskapet og styrke gjennomføringsevnen. Vi er flinke på innsamling i Norge, men vi trenger flere gode eksempler på løsninger høyt opp i avfallshierarkiet, sier spesialrådgiver Skinne. - Vi skal gjøre det enkelt for kunden å ta bærekraftige valg når de bytter ut eller handler ny brannslukker. Gjennom tilskuddet fra Innovasjon Norge får vi bygd en produksjonslinje som vil sørge for at andelen gjenbrukte brannslukkere øker betraktelig, forteller Aulie.     \n",
       "4  Ein mangeårig fascinasjon for vind og bølgjekrefter var utløysande for etableringa av Oceangrid. Dei utviklar ein ny metode for havbotninstallasjonar av flytande havvindplattformar. Med på laget har dei fått tre solide investorar, og Innovasjon Norge får delar av æra for dette. 99 prosent av dagens havvindparkar er botnfaste og ligg relativt nær land, kor det ikkje er så djupt. Lenger ute i havet ligg det eit stort potensial i vindkraft, men jo djupare havet er, desto dyrare vert havvindparkane. Det er her løysinga til Oceangrid kjem inn i biletet. -  Vår plattform er designa for å være optimal der havdjupna er 50-300 meter, seier gründer Bjarte Nordvik. Samanstilling til havs Nordvik meiner at dei har teke det beste frå fleire kjente teknologiar og sett dei saman på ein måte som vil effektivisere prosessane for korleis ein samanstillar og installerer plattformar for flytande havvind. -  Vårt konsept går ut på at plattforma i hovudsak skal settast saman av to modular, der vi kan gjere samanstillinga flytande utan at modular på fleire 1000 tonn vert løfta på land. Slik kan samanstilling av ein havvindplattform gjennomførast i løpet av eit par veker, i staden for tre til fire månader som er dagens situasjon, fortel Nordvik. Gjennom designet av plattforma med tilhøyrande forankring og el-kabel, er det vidare lagt stor vekt på at installasjonane skal sette minst mogleg avtrykk i havet og på havbotnen elles. Dette for å sikre best mogleg sameksistens mellom havvindsutbyggingar, marint liv og annan type havbruksnæring innanfor same havområde. Inspirasjon frå ubåtmiljøet Gründeren er utdanna mariningeniør gjennom sjøkrigsskulen og har tenestegjort på ubåt i ei årrekke. - Eg har meir eller mindre vakse opp i «bølgjesonen», som har bidrege til stor interesse og respekt for dette som fagfelt. Det er ingen tvil om at prosjektet er kapitalkrevjande med eit langt utviklingsløp, og til no har det handla om å rigge prosjektet og å starte på verifiseringa av teknologien. Oceangrid har motteke både tilskot til marknadsavklaring og tilskot til miljøteknologi frå Innovasjon Norge. - Eg trur ikkje vi hadde vore der vi er i dag utan støtte frå Innovasjon Norge i tidleg fase. Vi brukte marknadsavklaringstilskotet på å avklare teknologien og markanden, og videre danne eit realistisk bilde av korleis framtidas flytande havvindsprosjekt vil bli gjennomført frå designfase til montering, installasjon, drift og avvikling. Gjennom støtta frå miljøteknologiordninga er målet no å ta løysinga til TRL-nivå 4-5, seier Nordvik.       Store ambisjonar I tillegg til det finansielle bidraget frå Innovasjon Norge, peikar Nordvik også på viktigheita av sparring i tidleg fase. - Rådgjevaren har vore ein god støttespelar for oss, med korrekte og ærlege tilbakemeldingar. Han har mellom anna bidrege til å guide oss i riktig retning. Gründeren meiner også at støtta frå Innovasjon Norge har vore viktig i prosessen med å hente inn investorar og samarbeidspartnarar. Og det er ikkje kven som helst dei har fått med seg. - Når ein snakkar med investorar, så er det eit kvalitetsstempel å vise til at ein har motteke støtte frå Innovasjon Norge. Vi har fått med oss fire solide investorar; Valinor, Mosvold Kapital, Zukunftige Werte og Fjord Base Holding. Med dette har vi med oss eit energiselskap som kan industrien, vi har dei som skal bygge og stå for logistikk, og så har vi ein finansiell investor. Dersom Oceangrid lukkast med å få verifisert konseptet i miljøteknologi-prosjektet, er neste mål å søke om EU-finansiering til å bygge pilot. Ein draumekunde Finansieringsrådgjevar Kjell Haganes ved Innovasjon Norges Vestland-kontor er ikkje i tvil om at det er mogleg for Oceangrid å nå målsetnadane. - Det er dyrt å bygge ut havvind, spesielt flytande. Dette prosjektet har potensialet til å redusere kostnad per produsert kilowatt betydeleg. Her snakkar vi om et sterkt team, som har fått med seg gode samarbeidspartnarar, og som er audmjuke og lyttar til dei råda dei får undervegs. Haganes peikar vidare på at løysingar innanfor havvind er noko som vert etterspurt av norske myndigheiter, og at Oceangrid sitt prosjekt er veldig relevant i denne samanheng. - For Innovasjon Norge er dette ein draumekunde, seier Haganes.     "
      ]
     },
     "execution_count": 18,
     "metadata": {},
     "output_type": "execute_result"
    }
   ],
   "source": [
    "df_copy.head()"
   ]
  },
  {
   "cell_type": "markdown",
   "metadata": {},
   "source": [
    "#### Creating a bag of word from all descriptions"
   ]
  },
  {
   "cell_type": "markdown",
   "metadata": {},
   "source": [
    "We group all our descriptions in a list of lists."
   ]
  },
  {
   "cell_type": "code",
   "execution_count": 22,
   "metadata": {},
   "outputs": [],
   "source": [
    "descriptions_list = df_copy[6].values.tolist()"
   ]
  },
  {
   "cell_type": "code",
   "execution_count": 23,
   "metadata": {},
   "outputs": [
    {
     "name": "stdout",
     "output_type": "stream",
     "text": [
      "['Med 350 millioner kroner i omsetning er Wonderland en av de største sengeprodusentene i Norge. Nå vil selskapet på Åndalsnes øke eksporten til Europa. En høyteknologisk robotlinje sørger for at skumgummi, fjærer og andre komponenter plasseres riktig og blir til en «liggeflate» i andre enden. For femti år siden ble den første skummadrassen laget, og nå produserer Wonderland over 90\\xa0000 madrasser i året i fabrikkanlegget på Åndalsnes.   - I robotlinja har vi mulighet til å produsere to-tre ganger flere madrasser om markedet skulle ønske det. Vi tenker at en vekst skal skje på eksport, der Norden og deler av EU vil være vår prioritet, sier administrerende direktør i Wonderland, Lars Stenerud. Sengeprodusenten kan se tilbake på fem tiår med skiftende eierskap, krevende markeder og hard konkurranse. Wonderland har klart seg godt og vil nå vokse videre. De eksporterer noe til Norden allerede, men har et mål om å øke eksporten til Europa. Ved å delta i Innovasjon Norges program for eksportutvikling, Global Gateways, får de tett oppfølging gjennom hele eksportprosessen. Vi bidrar med kompetanse, rådgivning og nettverk for å sikre raskere tilgang til nye markeder. \\xa0 ']\n"
     ]
    }
   ],
   "source": [
    "# quick example with first list element\n",
    "print(descriptions_list[0:1])"
   ]
  },
  {
   "cell_type": "markdown",
   "metadata": {},
   "source": [
    "We use regex (re) to do some more cleaning"
   ]
  },
  {
   "cell_type": "code",
   "execution_count": 24,
   "metadata": {},
   "outputs": [],
   "source": [
    "descriptions_list_re = []\n",
    "\n",
    "for sentence in range(0, len(descriptions_list)):\n",
    "    \n",
    "    # Remove single characters from the start\n",
    "    newcol = re.sub(r'\\^[a-zA-Z]\\s+', ' ', str(descriptions_list[sentence]))\n",
    "    \n",
    "    # Remove all the special characters\n",
    "    newcol = re.sub(r'\\W', ' ', newcol)\n",
    "\n",
    "    # Substituting multiple spaces with single space\n",
    "    newcol = re.sub(r'\\s+', ' ', newcol, flags=re.I)\n",
    "\n",
    "    descriptions_list_re.append(newcol)"
   ]
  },
  {
   "cell_type": "code",
   "execution_count": 25,
   "metadata": {},
   "outputs": [
    {
     "name": "stdout",
     "output_type": "stream",
     "text": [
      "['Med 350 millioner kroner i omsetning er Wonderland en av de største sengeprodusentene i Norge Nå vil selskapet på Åndalsnes øke eksporten til Europa En høyteknologisk robotlinje sørger for at skumgummi fjærer og andre komponenter plasseres riktig og blir til en liggeflate i andre enden For femti år siden ble den første skummadrassen laget og nå produserer Wonderland over 90 000 madrasser i året i fabrikkanlegget på Åndalsnes I robotlinja har vi mulighet til å produsere to tre ganger flere madrasser om markedet skulle ønske det Vi tenker at en vekst skal skje på eksport der Norden og deler av EU vil være vår prioritet sier administrerende direktør i Wonderland Lars Stenerud Sengeprodusenten kan se tilbake på fem tiår med skiftende eierskap krevende markeder og hard konkurranse Wonderland har klart seg godt og vil nå vokse videre De eksporterer noe til Norden allerede men har et mål om å øke eksporten til Europa Ved å delta i Innovasjon Norges program for eksportutvikling Global Gateways får de tett oppfølging gjennom hele eksportprosessen Vi bidrar med kompetanse rådgivning og nettverk for å sikre raskere tilgang til nye markeder ']\n"
     ]
    }
   ],
   "source": [
    "print(descriptions_list_re[0:1])"
   ]
  },
  {
   "cell_type": "markdown",
   "metadata": {},
   "source": [
    "Creating bag of words from list of lists"
   ]
  },
  {
   "cell_type": "code",
   "execution_count": 37,
   "metadata": {},
   "outputs": [],
   "source": [
    "def sent_to_words(sentences):\n",
    "    for sentence in sentences:\n",
    "        yield(gensim.utils.simple_preprocess(str(sentence), deacc=False))  # deacc=False keeps accents on Norwegian letters\n",
    "\n",
    "bag_of_words = list(sent_to_words(descriptions_list_re))"
   ]
  },
  {
   "cell_type": "code",
   "execution_count": 38,
   "metadata": {},
   "outputs": [
    {
     "name": "stdout",
     "output_type": "stream",
     "text": [
      "[['med', 'millioner', 'kroner', 'omsetning', 'er', 'wonderland', 'en', 'av', 'de', 'største', 'norge', 'nå', 'vil', 'selskapet', 'på', 'åndalsnes', 'øke', 'eksporten', 'til', 'europa', 'en', 'høyteknologisk', 'robotlinje', 'sørger', 'for', 'at', 'skumgummi', 'fjærer', 'og', 'andre', 'komponenter', 'plasseres', 'riktig', 'og', 'blir', 'til', 'en', 'liggeflate', 'andre', 'enden', 'for', 'femti', 'år', 'siden', 'ble', 'den', 'første', 'skummadrassen', 'laget', 'og', 'nå', 'produserer', 'wonderland', 'over', 'madrasser', 'året', 'fabrikkanlegget', 'på', 'åndalsnes', 'robotlinja', 'har', 'vi', 'mulighet', 'til', 'produsere', 'to', 'tre', 'ganger', 'flere', 'madrasser', 'om', 'markedet', 'skulle', 'ønske', 'det', 'vi', 'tenker', 'at', 'en', 'vekst', 'skal', 'skje', 'på', 'eksport', 'der', 'norden', 'og', 'deler', 'av', 'eu', 'vil', 'være', 'vår', 'prioritet', 'sier', 'administrerende', 'direktør', 'wonderland', 'lars', 'stenerud', 'kan', 'se', 'tilbake', 'på', 'fem', 'tiår', 'med', 'skiftende', 'eierskap', 'krevende', 'markeder', 'og', 'hard', 'konkurranse', 'wonderland', 'har', 'klart', 'seg', 'godt', 'og', 'vil', 'nå', 'vokse', 'videre', 'de', 'eksporterer', 'noe', 'til', 'norden', 'allerede', 'men', 'har', 'et', 'mål', 'om', 'øke', 'eksporten', 'til', 'europa', 'ved', 'delta', 'innovasjon', 'norges', 'program', 'for', 'global', 'gateways', 'får', 'de', 'tett', 'oppfølging', 'gjennom', 'hele', 'vi', 'bidrar', 'med', 'kompetanse', 'rådgivning', 'og', 'nettverk', 'for', 'sikre', 'raskere', 'tilgang', 'til', 'nye', 'markeder']]\n"
     ]
    }
   ],
   "source": [
    "print(bag_of_words[0:1])"
   ]
  },
  {
   "cell_type": "markdown",
   "metadata": {},
   "source": [
    "Removing stop words from bag of words"
   ]
  },
  {
   "cell_type": "code",
   "execution_count": 41,
   "metadata": {},
   "outputs": [],
   "source": [
    "stop_words = stopwords.words('norwegian')\n",
    "# stop_words.extend(['på'])\n",
    "# --> we can add extra words here that we want to remove from the bag of words\n",
    "\n",
    "def remove_stopwords(texts):\n",
    "    return [[word for word in simple_preprocess(str(doc)) if word not in stop_words] for doc in texts]\n",
    "\n",
    "bag_of_words_no_stop = remove_stopwords(bag_of_words)"
   ]
  },
  {
   "cell_type": "code",
   "execution_count": 42,
   "metadata": {},
   "outputs": [
    {
     "name": "stdout",
     "output_type": "stream",
     "text": [
      "[['millioner', 'kroner', 'omsetning', 'wonderland', 'største', 'norge', 'selskapet', 'åndalsnes', 'øke', 'eksporten', 'europa', 'høyteknologisk', 'robotlinje', 'sørger', 'skumgummi', 'fjærer', 'andre', 'komponenter', 'plasseres', 'riktig', 'liggeflate', 'andre', 'enden', 'femti', 'år', 'første', 'skummadrassen', 'laget', 'produserer', 'wonderland', 'madrasser', 'året', 'fabrikkanlegget', 'åndalsnes', 'robotlinja', 'mulighet', 'produsere', 'to', 'tre', 'ganger', 'flere', 'madrasser', 'markedet', 'ønske', 'tenker', 'vekst', 'skje', 'eksport', 'norden', 'deler', 'eu', 'prioritet', 'sier', 'administrerende', 'direktør', 'wonderland', 'lars', 'stenerud', 'se', 'tilbake', 'fem', 'tiår', 'skiftende', 'eierskap', 'krevende', 'markeder', 'hard', 'konkurranse', 'wonderland', 'klart', 'godt', 'vokse', 'videre', 'eksporterer', 'norden', 'allerede', 'mål', 'øke', 'eksporten', 'europa', 'delta', 'innovasjon', 'norges', 'program', 'global', 'gateways', 'får', 'tett', 'oppfølging', 'gjennom', 'hele', 'bidrar', 'kompetanse', 'rådgivning', 'nettverk', 'sikre', 'raskere', 'tilgang', 'nye', 'markeder']]\n"
     ]
    }
   ],
   "source": [
    "print(bag_of_words_no_stop[0:1])"
   ]
  },
  {
   "cell_type": "code",
   "execution_count": 43,
   "metadata": {},
   "outputs": [
    {
     "data": {
      "text/plain": [
       "149"
      ]
     },
     "execution_count": 43,
     "metadata": {},
     "output_type": "execute_result"
    }
   ],
   "source": [
    "len(bag_of_words_no_stop) # --> this should still return the same length of our original dataframe :)"
   ]
  },
  {
   "cell_type": "markdown",
   "metadata": {},
   "source": [
    "##### Processing Bag of Words using spaCy library"
   ]
  },
  {
   "cell_type": "code",
   "execution_count": 49,
   "metadata": {},
   "outputs": [],
   "source": [
    "# path to our spaCy language model\n",
    "path_spacy_model = '/Users/Anne/anaconda3/envs/python37/lib/python3.7/site-packages/nb_core_news_md/nb_core_news_md-3.0.0'\n",
    "\n",
    "# loading the model\n",
    "nlp = spacy.load(path_spacy_model, disable=['parser', 'ner'])"
   ]
  },
  {
   "cell_type": "code",
   "execution_count": 50,
   "metadata": {},
   "outputs": [
    {
     "data": {
      "text/plain": [
       "spacy.lang.nb.Norwegian"
      ]
     },
     "execution_count": 50,
     "metadata": {},
     "output_type": "execute_result"
    }
   ],
   "source": [
    "type(nlp)"
   ]
  },
  {
   "cell_type": "markdown",
   "metadata": {},
   "source": [
    "Reducing the term count"
   ]
  },
  {
   "cell_type": "markdown",
   "metadata": {},
   "source": [
    "We have already removed our stop words.<br>\n",
    "The lemmatization will allow us to select a specific type of word, for instance 'NOUN'"
   ]
  },
  {
   "cell_type": "code",
   "execution_count": 51,
   "metadata": {},
   "outputs": [],
   "source": [
    "def lemmatization(texts, allowed_postags=['NOUN', 'ADJ', 'VERB', 'ADV', 'PROPN']):\n",
    "    texts_out = []\n",
    "    for sent in texts:\n",
    "        doc = nlp(\" \".join(sent))    # remember: nlp is defined in our previous cell, it is the spaCey language model\n",
    "        texts_out.append([token.lemma_ for token in doc if token.pos_ in allowed_postags])\n",
    "    return texts_out"
   ]
  },
  {
   "cell_type": "code",
   "execution_count": 52,
   "metadata": {},
   "outputs": [],
   "source": [
    "bag_of_words_no_stop_lemma = lemmatization(bag_of_words_no_stop, allowed_postags=['NOUN'])"
   ]
  },
  {
   "cell_type": "code",
   "execution_count": 53,
   "metadata": {},
   "outputs": [
    {
     "name": "stdout",
     "output_type": "stream",
     "text": [
      "[['million', 'krone', 'omsetning', 'wonderland', 'norge', 'selskap', 'åndalsnes', 'eksport', 'europe', 'robotlinje', 'skumgummi', 'fjære', 'komponent', 'ende', 'år', 'skummadrasse', 'lag', 'wonderland', 'madrass', 'år', 'fabrikkanlegg', 'åndalsnes', 'mulighet', 'ganger', 'madrass', 'marked', 'ønske', 'vekst', 'eksport', 'norde', 'prioritet', 'direktør', 'tiår', 'eierskap', 'marked', 'konkurranse', 'wonderland', 'norde', 'mål', 'eksport', 'europe', 'innovasjon', 'program', 'gateways', 'oppfølging', 'kompetanse', 'rådgivning', 'nettverk', 'tilgang', 'marked']]\n"
     ]
    }
   ],
   "source": [
    "print(bag_of_words_no_stop_lemma[0:1])"
   ]
  },
  {
   "cell_type": "markdown",
   "metadata": {},
   "source": [
    "Inspect most frequest terms from our lemmatized bag of words"
   ]
  },
  {
   "cell_type": "code",
   "execution_count": 66,
   "metadata": {},
   "outputs": [],
   "source": [
    "def detoken(texts):\n",
    "    \"\"\"detokenizer\"\"\"\n",
    "    texts_out = []\n",
    "    for sent in texts:\n",
    "        texts_out.append(\" \".join(s for s in sent))\n",
    "    return texts_out\n",
    "\n",
    "bag_of_words_no_stop_lemma_test = detoken(bag_of_words_no_stop_lemma)    # reassembling lists of tokens into continuous lists of strings\n",
    "\n",
    "vectorizer = CountVectorizer()\n",
    "X = vectorizer.fit_transform(bag_of_words_no_stop_lemma_test)\n",
    "freq = np.ravel(X.sum(axis=0)) \n",
    "\n",
    "vocab = [v[0] for v in sorted(vectorizer.vocabulary_.items(), key=operator.itemgetter(1))]\n",
    "fdist = dict(zip(vocab, freq))\n",
    "\n",
    "# Save all terms as CSV file to inspect all\n",
    "\n",
    "with open('term_dict.csv', 'w', encoding='utf-8') as f:\n",
    "    for key in fdist.keys():\n",
    "        f.write(\"%s,%s\\n\"%(key,fdist[key]))"
   ]
  },
  {
   "cell_type": "code",
   "execution_count": 69,
   "metadata": {},
   "outputs": [],
   "source": [
    "# Reading term_dict csv file into a pandas and sort the df by frequencies \n",
    "# to see which words are very frequent (ubiquitous).\n",
    "df_term_dict = pd.read_csv('term_dict.csv', names=['token', 'frequency'])\n",
    "df_term_dict.sort_values('frequency', ascending= False, inplace=True)"
   ]
  },
  {
   "cell_type": "code",
   "execution_count": 70,
   "metadata": {},
   "outputs": [
    {
     "data": {
      "text/html": [
       "<div>\n",
       "<style scoped>\n",
       "    .dataframe tbody tr th:only-of-type {\n",
       "        vertical-align: middle;\n",
       "    }\n",
       "\n",
       "    .dataframe tbody tr th {\n",
       "        vertical-align: top;\n",
       "    }\n",
       "\n",
       "    .dataframe thead th {\n",
       "        text-align: right;\n",
       "    }\n",
       "</style>\n",
       "<table border=\"1\" class=\"dataframe\">\n",
       "  <thead>\n",
       "    <tr style=\"text-align: right;\">\n",
       "      <th></th>\n",
       "      <th>token</th>\n",
       "      <th>frequency</th>\n",
       "    </tr>\n",
       "  </thead>\n",
       "  <tbody>\n",
       "    <tr>\n",
       "      <th>1505</th>\n",
       "      <td>innovasjon</td>\n",
       "      <td>730</td>\n",
       "    </tr>\n",
       "    <tr>\n",
       "      <th>2358</th>\n",
       "      <td>norge</td>\n",
       "      <td>563</td>\n",
       "    </tr>\n",
       "    <tr>\n",
       "      <th>2985</th>\n",
       "      <td>selskap</td>\n",
       "      <td>385</td>\n",
       "    </tr>\n",
       "    <tr>\n",
       "      <th>2059</th>\n",
       "      <td>marked</td>\n",
       "      <td>291</td>\n",
       "    </tr>\n",
       "    <tr>\n",
       "      <th>2029</th>\n",
       "      <td>løsning</td>\n",
       "      <td>269</td>\n",
       "    </tr>\n",
       "    <tr>\n",
       "      <th>256</th>\n",
       "      <td>bedrift</td>\n",
       "      <td>246</td>\n",
       "    </tr>\n",
       "    <tr>\n",
       "      <th>2697</th>\n",
       "      <td>prosjekt</td>\n",
       "      <td>190</td>\n",
       "    </tr>\n",
       "    <tr>\n",
       "      <th>3446</th>\n",
       "      <td>teknologi</td>\n",
       "      <td>189</td>\n",
       "    </tr>\n",
       "    <tr>\n",
       "      <th>2672</th>\n",
       "      <td>produkt</td>\n",
       "      <td>177</td>\n",
       "    </tr>\n",
       "    <tr>\n",
       "      <th>3328</th>\n",
       "      <td>støtte</td>\n",
       "      <td>176</td>\n",
       "    </tr>\n",
       "    <tr>\n",
       "      <th>571</th>\n",
       "      <td>dag</td>\n",
       "      <td>118</td>\n",
       "    </tr>\n",
       "    <tr>\n",
       "      <th>2200</th>\n",
       "      <td>million</td>\n",
       "      <td>113</td>\n",
       "    </tr>\n",
       "    <tr>\n",
       "      <th>3926</th>\n",
       "      <td>år</td>\n",
       "      <td>109</td>\n",
       "    </tr>\n",
       "    <tr>\n",
       "      <th>1819</th>\n",
       "      <td>kunde</td>\n",
       "      <td>106</td>\n",
       "    </tr>\n",
       "    <tr>\n",
       "      <th>1764</th>\n",
       "      <td>kontor</td>\n",
       "      <td>104</td>\n",
       "    </tr>\n",
       "    <tr>\n",
       "      <th>3710</th>\n",
       "      <td>utvikling</td>\n",
       "      <td>102</td>\n",
       "    </tr>\n",
       "    <tr>\n",
       "      <th>3794</th>\n",
       "      <td>verden</td>\n",
       "      <td>102</td>\n",
       "    </tr>\n",
       "    <tr>\n",
       "      <th>3767</th>\n",
       "      <td>vekst</td>\n",
       "      <td>101</td>\n",
       "    </tr>\n",
       "    <tr>\n",
       "      <th>3507</th>\n",
       "      <td>tillegg</td>\n",
       "      <td>92</td>\n",
       "    </tr>\n",
       "    <tr>\n",
       "      <th>1345</th>\n",
       "      <td>hjelp</td>\n",
       "      <td>88</td>\n",
       "    </tr>\n",
       "  </tbody>\n",
       "</table>\n",
       "</div>"
      ],
      "text/plain": [
       "           token  frequency\n",
       "1505  innovasjon        730\n",
       "2358       norge        563\n",
       "2985     selskap        385\n",
       "2059      marked        291\n",
       "2029     løsning        269\n",
       "256      bedrift        246\n",
       "2697    prosjekt        190\n",
       "3446   teknologi        189\n",
       "2672     produkt        177\n",
       "3328      støtte        176\n",
       "571          dag        118\n",
       "2200     million        113\n",
       "3926          år        109\n",
       "1819       kunde        106\n",
       "1764      kontor        104\n",
       "3710   utvikling        102\n",
       "3794      verden        102\n",
       "3767       vekst        101\n",
       "3507     tillegg         92\n",
       "1345       hjelp         88"
      ]
     },
     "execution_count": 70,
     "metadata": {},
     "output_type": "execute_result"
    }
   ],
   "source": [
    "df_term_dict.head(20)"
   ]
  },
  {
   "cell_type": "code",
   "execution_count": null,
   "metadata": {},
   "outputs": [],
   "source": []
  }
 ],
 "metadata": {
  "kernelspec": {
   "display_name": "Python 3.7.4 ('python37')",
   "language": "python",
   "name": "python3"
  },
  "language_info": {
   "codemirror_mode": {
    "name": "ipython",
    "version": 3
   },
   "file_extension": ".py",
   "mimetype": "text/x-python",
   "name": "python",
   "nbconvert_exporter": "python",
   "pygments_lexer": "ipython3",
   "version": "3.7.4"
  },
  "orig_nbformat": 4,
  "vscode": {
   "interpreter": {
    "hash": "ee82bfbd1cd980c7a4f188dc7eb2e8b17dad0a07fc39a9c09073da21ed2ee760"
   }
  }
 },
 "nbformat": 4,
 "nbformat_minor": 2
}
